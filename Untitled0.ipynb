{
  "nbformat": 4,
  "nbformat_minor": 0,
  "metadata": {
    "colab": {
      "name": "Untitled0.ipynb",
      "provenance": [],
      "mount_file_id": "1Zs4f2EurhqzBxKNxLRj28MXSLc1cqPaw",
      "authorship_tag": "ABX9TyNJ2DpySFatAqppeNZSrJXp",
      "include_colab_link": true
    },
    "kernelspec": {
      "name": "python3",
      "display_name": "Python 3"
    },
    "language_info": {
      "name": "python"
    }
  },
  "cells": [
    {
      "cell_type": "markdown",
      "metadata": {
        "id": "view-in-github",
        "colab_type": "text"
      },
      "source": [
        "<a href=\"https://colab.research.google.com/github/sravanth4/basicml/blob/main/Untitled0.ipynb\" target=\"_parent\"><img src=\"https://colab.research.google.com/assets/colab-badge.svg\" alt=\"Open In Colab\"/></a>"
      ]
    },
    {
      "cell_type": "markdown",
      "metadata": {
        "id": "z8yDpy8tORPe"
      },
      "source": [
        "#pythonprograms"
      ]
    },
    {
      "cell_type": "markdown",
      "metadata": {
        "id": "snoO411CPfxT"
      },
      "source": [
        "#1)Python Program to Display Fibonacci Sequence Using Recursion"
      ]
    },
    {
      "cell_type": "code",
      "metadata": {
        "colab": {
          "base_uri": "https://localhost:8080/",
          "height": 131
        },
        "id": "SF5fvfgoTwLE",
        "outputId": "0fa22f4f-5eac-474b-b910-2ca8030c61d3"
      },
      "source": [
        "In [ ]:\n",
        "\n",
        "def recur_fibo(n): if n <= 1: return n else: return(recur_fibo(n-1) + recur_fibo(n-2)) nterms = 10 # check if the number of terms is valid if nterms <= 0: print(\"Plese enter a positive integer\") else: print(\"Fibonacci sequence:\") for i in range(nterms): print(recur_fibo(i)) "
      ],
      "execution_count": 7,
      "outputs": [
        {
          "output_type": "error",
          "ename": "SyntaxError",
          "evalue": "ignored",
          "traceback": [
            "\u001b[0;36m  File \u001b[0;32m\"<ipython-input-7-6f5f9811b66c>\"\u001b[0;36m, line \u001b[0;32m1\u001b[0m\n\u001b[0;31m    In [ ]:\u001b[0m\n\u001b[0m         ^\u001b[0m\n\u001b[0;31mSyntaxError\u001b[0m\u001b[0;31m:\u001b[0m invalid syntax\n"
          ]
        }
      ]
    },
    {
      "cell_type": "markdown",
      "metadata": {
        "id": "_k0z3uTJT6Dv"
      },
      "source": [
        "#2.Python Program to Sort Words in Alphabetic Order"
      ]
    },
    {
      "cell_type": "code",
      "metadata": {
        "id": "DdCitgCFUDuF"
      },
      "source": [
        "In [ ]:\n",
        "\n",
        "my_str = \"Hello this Is an Example With cased letters\" words = [word.lower() for word in my_str.split()] # sort the list words.sort() # display the sorted words print(\"The sorted words are:\") for word in words: print(word) "
      ],
      "execution_count": null,
      "outputs": []
    },
    {
      "cell_type": "markdown",
      "metadata": {
        "id": "KEoj7uD3UJnL"
      },
      "source": [
        "#3.Python Program to Reverse a Number"
      ]
    },
    {
      "cell_type": "code",
      "metadata": {
        "id": "PooK0XyUUPvl"
      },
      "source": [
        "In [ ]:\n",
        "\n",
        "In [ ]: num = int(input()) reversed_num = 0 while num != 0: digit = num % 10 reversed_num = reversed_num * 10 + digit num //= 10 print(\"Reversed Number: \" + str(reversed_num))"
      ],
      "execution_count": null,
      "outputs": []
    }
  ]
}